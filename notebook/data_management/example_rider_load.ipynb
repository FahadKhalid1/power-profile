{
 "cells": [
  {
   "cell_type": "markdown",
   "metadata": {},
   "source": [
    "# Rider class example"
   ]
  },
  {
   "cell_type": "markdown",
   "metadata": {},
   "source": [
    "Import the necessary library"
   ]
  },
  {
   "cell_type": "code",
   "execution_count": null,
   "metadata": {
    "collapsed": false
   },
   "outputs": [],
   "source": [
    "%matplotlib inline\n",
    "\n",
    "import numpy as np\n",
    "import matplotlib.pyplot as plt\n",
    "\n",
    "from skcycling.data_management import Rider"
   ]
  },
  {
   "cell_type": "markdown",
   "metadata": {},
   "source": [
    "### Load the data from rider"
   ]
  },
  {
   "cell_type": "markdown",
   "metadata": {},
   "source": [
    "The rider data can be loaded from pickles files."
   ]
  },
  {
   "cell_type": "code",
   "execution_count": null,
   "metadata": {
    "collapsed": false
   },
   "outputs": [],
   "source": [
    "filename = '../../data/rider/user_5.p'\n",
    "\n",
    "my_rider = Rider.load_from_pickles(filename)\n",
    "\n",
    "print 'This rider has {} rides.'.format(len(my_rider.rides_pp_))"
   ]
  },
  {
   "cell_type": "markdown",
   "metadata": {},
   "source": [
    "### Data plotting"
   ]
  },
  {
   "cell_type": "markdown",
   "metadata": {},
   "source": [
    "The record power-profile as well as each ride power-profile can be shown easily."
   ]
  },
  {
   "cell_type": "code",
   "execution_count": null,
   "metadata": {
    "collapsed": false
   },
   "outputs": [],
   "source": [
    "plt.figure(figsize=(14, 10))\n",
    "\n",
    "for rpp in my_rider.rides_pp_:\n",
    "    t = np.linspace(0, rpp.max_duration_profile_, rpp.data_.size)\n",
    "    plt.plot(t, rpp.data_)\n",
    "    plt.ylabel('Power in watt (W)')\n",
    "    plt.xlabel('Time in minute (min)')\n",
    "\n",
    "plt.show()"
   ]
  },
  {
   "cell_type": "code",
   "execution_count": null,
   "metadata": {
    "collapsed": false
   },
   "outputs": [],
   "source": [
    "plt.figure(figsize=(14, 10))\n",
    "\n",
    "# Force to compute the record power-profile\n",
    "my_rider.compute_record_pp()\n",
    "\n",
    "t = np.linspace(0, my_rider.max_duration_profile_, my_rider.record_pp_.data_.size)\n",
    "plt.plot(t, my_rider.record_pp_.data_)\n",
    "plt.ylabel('Power in watt (W)')\n",
    "plt.xlabel('Time in minute (min)')\n",
    "\n",
    "plt.show()"
   ]
  }
 ],
 "metadata": {
  "kernelspec": {
   "display_name": "Python 2",
   "language": "python",
   "name": "python2"
  },
  "language_info": {
   "codemirror_mode": {
    "name": "ipython",
    "version": 2
   },
   "file_extension": ".py",
   "mimetype": "text/x-python",
   "name": "python",
   "nbconvert_exporter": "python",
   "pygments_lexer": "ipython2",
   "version": "2.7.11"
  }
 },
 "nbformat": 4,
 "nbformat_minor": 0
}
