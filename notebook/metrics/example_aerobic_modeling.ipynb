{
 "cells": [
  {
   "cell_type": "markdown",
   "metadata": {},
   "source": [
    "# Aerobic metabolic model"
   ]
  },
  {
   "cell_type": "markdown",
   "metadata": {},
   "source": [
    "Import the necessary libraries"
   ]
  },
  {
   "cell_type": "code",
   "execution_count": null,
   "metadata": {
    "collapsed": false
   },
   "outputs": [],
   "source": [
    "%matplotlib inline\n",
    "\n",
    "import numpy as np\n",
    "import matplotlib.pyplot as plt\n",
    "\n",
    "from skcycling.data_management import Rider\n",
    "\n",
    "from skcycling.metrics import aerobic_meta_model\n",
    "\n",
    "from skcycling.utils.fit import log_linear_model\n",
    "from skcycling.utils.fit import linear_model\n",
    "\n",
    "from datetime import date"
   ]
  },
  {
   "cell_type": "markdown",
   "metadata": {},
   "source": [
    "### Load the data"
   ]
  },
  {
   "cell_type": "code",
   "execution_count": null,
   "metadata": {
    "collapsed": false
   },
   "outputs": [],
   "source": [
    "filename = '../../data/rider/user_1.p'\n",
    "my_rider = Rider.load_from_pickles(filename)"
   ]
  },
  {
   "cell_type": "markdown",
   "metadata": {},
   "source": [
    "### Compute the aerobic metabolic model"
   ]
  },
  {
   "cell_type": "code",
   "execution_count": null,
   "metadata": {
    "collapsed": false
   },
   "outputs": [],
   "source": [
    "# Define the starting and ending date from which\n",
    "# we want to compute the record power-profile\n",
    "start_date = date(2014,1,1)\n",
    "end_date = date(2014, 12, 31)\n",
    "\n",
    "# Compute the record power-profile\n",
    "my_rider.compute_record_pp((start_date, end_date))\n",
    "\n",
    "# Compute the amm\n",
    "pma, t_pma, aei, fit_info_pma_fitting, fit_info_aei_fitting = aerobic_meta_model(my_rider.record_pp_)\n",
    "\n",
    "print 'MAP : {}, time at MAP : {}, aei : {}'.format(pma, t_pma, aei)\n",
    "print 'Fitting information about the MAP: {}'.format(fit_info_pma_fitting)\n",
    "print 'Fitting information about the AEI: {}'.format(fit_info_aei_fitting)"
   ]
  },
  {
   "cell_type": "markdown",
   "metadata": {},
   "source": [
    "### Plot the information related to the MAP determination using Pinot et al. approach"
   ]
  },
  {
   "cell_type": "code",
   "execution_count": null,
   "metadata": {
    "collapsed": false
   },
   "outputs": [],
   "source": [
    "# Plot the normalized power\n",
    "plt.figure(figsize=(14, 10))\n",
    "# Define the time samples to use for the plotting\n",
    "t = np.array([3, 3.5, 4, 4.5, 5, 5.5, 6, 6.5, 7, 10, 20, 30, 45, 60, 120, 180, 240])\n",
    "# Plot the log linear model found\n",
    "plt.semilogx(t, log_linear_model(t, fit_info_pma_fitting['slope'], fit_info_pma_fitting['intercept']),\n",
    "            label=r'$R^2={0:.2f}$'.format(fit_info_aei_fitting['coeff_det']))\n",
    "# Plot the confidence\n",
    "plt.fill_between(t,\n",
    "                 log_linear_model(t, fit_info_pma_fitting['slope'],\n",
    "                                  fit_info_pma_fitting['intercept']) + 2 * fit_info_pma_fitting['std_err'],\n",
    "                 log_linear_model(t, fit_info_pma_fitting['slope'],\n",
    "                                  fit_info_pma_fitting['intercept']) - 2 * fit_info_pma_fitting['std_err'],\n",
    "                 alpha=0.2)\n",
    "# Plot the real data point\n",
    "plt.semilogx(t, my_rider.record_pp_.resampling_rpp(t), 'go')\n",
    "# Plot the MAP point \n",
    "plt.semilogx(t_pma, pma, 'ro', label='t={0:.1f} min / MAP={1:.1f} W'.format(t_pma, pma))\n",
    "# Plot the legend\n",
    "plt.xlabel('Time in minutes (min)')\n",
    "plt.ylabel('Power in watts (W)')\n",
    "plt.xlim(min(t), max(t))\n",
    "plt.ylim(0, max(my_rider.record_pp_.resampling_rpp(t)+50))\n",
    "plt.title(r'Determine MAP with the model ${0:.1f} \\times \\log(t) + {1:.1f}$'.format(fit_info_pma_fitting['slope'],\n",
    "                                                                                    fit_info_pma_fitting['intercept']))\n",
    "plt.legend()\n",
    "plt.show()"
   ]
  },
  {
   "cell_type": "markdown",
   "metadata": {},
   "source": [
    "### Plot the information related to the AEI determination using Pinot et al. approach"
   ]
  },
  {
   "cell_type": "code",
   "execution_count": null,
   "metadata": {
    "collapsed": false
   },
   "outputs": [],
   "source": [
    "# Plot the normalized power\n",
    "plt.figure(figsize=(14, 10))\n",
    "# Define the time samples to use for the plotting\n",
    "t = np.array([3, 3.5, 4, 4.5, 5, 5.5, 6, 6.5, 7, 10, 20, 30, 45, 60, 120, 180, 240])\n",
    "t = t[np.nonzero(t > t_pma)]\n",
    "# Plot the log linear model found\n",
    "plt.semilogx(t, log_linear_model(t, fit_info_aei_fitting['slope'], fit_info_aei_fitting['intercept']),\n",
    "             label=r'$R^2={0:.2f}$'.format(fit_info_aei_fitting['coeff_det']))\n",
    "# Plot the confidence\n",
    "plt.fill_between(t,\n",
    "                 log_linear_model(t, fit_info_aei_fitting['slope'],\n",
    "                                  fit_info_aei_fitting['intercept']) + 2 * fit_info_aei_fitting['std_err'],\n",
    "                 log_linear_model(t, fit_info_aei_fitting['slope'],\n",
    "                                  fit_info_aei_fitting['intercept']) - 2 * fit_info_aei_fitting['std_err'],\n",
    "                 alpha=0.2)\n",
    "# Plot the real data point\n",
    "plt.semilogx(t, my_rider.record_pp_.resampling_rpp(t) / pma * 100., 'go')\n",
    "# Plot the legend\n",
    "plt.xlabel('Time in minutes (min)')\n",
    "plt.ylabel('Power in watts (W)')\n",
    "plt.xlim(min(t), max(t))\n",
    "plt.ylim(0, 100)\n",
    "plt.title(r'Determine AEI with the model ${0:.1f} \\times \\log(t) + {1:.1f}$'.format(fit_info_aei_fitting['slope'],\n",
    "                                                                                    fit_info_aei_fitting['intercept']))\n",
    "plt.legend()\n",
    "plt.show()"
   ]
  }
 ],
 "metadata": {
  "kernelspec": {
   "display_name": "Python 2",
   "language": "python",
   "name": "python2"
  },
  "language_info": {
   "codemirror_mode": {
    "name": "ipython",
    "version": 2
   },
   "file_extension": ".py",
   "mimetype": "text/x-python",
   "name": "python",
   "nbconvert_exporter": "python",
   "pygments_lexer": "ipython2",
   "version": "2.7.11"
  }
 },
 "nbformat": 4,
 "nbformat_minor": 0
}
