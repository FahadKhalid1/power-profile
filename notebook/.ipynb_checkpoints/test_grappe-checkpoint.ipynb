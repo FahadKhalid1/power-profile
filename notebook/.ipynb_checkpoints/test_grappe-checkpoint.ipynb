{
 "cells": [
  {
   "cell_type": "code",
   "execution_count": null,
   "metadata": {
    "collapsed": false,
    "scrolled": true
   },
   "outputs": [],
   "source": [
    "%matplotlib inline\n",
    "\n",
    "import numpy as np\n",
    "import matplotlib.pyplot as plt\n",
    "from scipy.stats import linregress\n",
    "\n",
    "from skcycling.power_profile import Rpp\n",
    "\n",
    "# Load some data previously acquired\n",
    "path_to_profile = '../data/user_1/profile/2015/profile.npy'\n",
    "rider_rpp = Rpp.load_from_npy(path_to_profile, cyclist_weight=1.)\n",
    "\n",
    "# plt.figure()\n",
    "\n",
    "# # Plot the original data\n",
    "# plt.plot(np.linspace(0, rider_rpp.max_duration_rpp_, rider_rpp.rpp_.size), \n",
    "#          rider_rpp.rpp_norm_)\n",
    "\n",
    "# # # Plot a denoised signal using b-spline\n",
    "# # plt.plot(np.linspace(0, rider_rpp.max_duration_rpp_, rider_rpp.rpp_.size),\n",
    "# #          rider_rpp.denoise_rpp(normalized=True), 'r+')\n",
    "\n",
    "# # Resample the data as the SRM\n",
    "\n",
    "#ts = np.array([0.016, 0.083, 0.5, 1, 3, 3.5, 4, 4.5, 5, 5.5,\n",
    "#               6, 6.5, 7, 10, 20, 30, 45, 60, 120, 180, 240])\n",
    "\n",
    "ts = np.array([3, 3.5, 4, 4.5, 5, 5.5,\n",
    "              6, 6.5, 7, 10, 20, 30, 45, 60, 120, 180, 240])\n",
    "\n",
    "#ts = np.arange(240)\n",
    "\n",
    "# plt.plot(ts, rider_rpp.resampling_rpp(ts, normalized=True))\n",
    "\n",
    "# # Show the plot\n",
    "# plt.show()\n",
    "\n",
    "# Fit the model from Pinot et al.\n",
    "#ts_reg = np.array([4, 4.5, 5, 5.5,\n",
    "#                   6, 6.5, 7, 10, 20, 30,\n",
    "#                   45, 60, 120, 180, 240])\n",
    "\n",
    "#ts_reg = np.array([10, 20, 30,\n",
    "#                  45, 60, 120, 180, 240])\n",
    "\n",
    "ts_reg = np.linspace(10, 240, (240 - 10) * 60)\n",
    "\n",
    "\n",
    "slope, intercept, std_err, r_squared = rider_rpp.aerobic_meta_model(ts=ts_reg,\n",
    "                                                                    normalized=True,\n",
    "                                                                    method='lsq')\n",
    "\n",
    "print \"y =\" + str(slope) + \" ln(t) + \" + str(intercept)\n",
    "print 'The goodness of fitting is R2: {}'.format(r_squared)\n",
    "\n",
    "# Define a lambda function to plot a line\n",
    "def line_generator(x, slope, intercept):\n",
    "    return slope * x + intercept\n",
    "\n",
    "plt.figure()\n",
    "\n",
    "# Plot the specific point in a semilog plot\n",
    "plt.semilogx(ts, rider_rpp.resampling_rpp(ts, normalized=True), 'ro')\n",
    "plt.semilogx(ts, line_generator(np.log(ts), slope, intercept))\n",
    "plt.fill_between(ts, \n",
    "                 line_generator(np.log(ts), slope,\n",
    "                                intercept) + 2 * std_err,\n",
    "                 line_generator(np.log(ts), slope,\n",
    "                                intercept) - 2 * std_err,\n",
    "                 alpha=0.2)\n",
    "\n",
    "# Show the plot\n",
    "plt.show()"
   ]
  },
  {
   "cell_type": "markdown",
   "metadata": {
    "collapsed": true
   },
   "source": [
    "# Run avec la méthode Pinot et Grappe\n",
    "\n",
    "c'est à dire avec une régression linéaire sur 10 à 240 min\n",
    "\n",
    "y =-51.8451061423 ln(t) + 508.111452204\n",
    "The goodness of fitting is R2: 0.970059919194\n",
    "\n",
    "# Run avec toutes les données\n",
    "\n",
    "y =-46.6502509108 ln(t) + 482.454497481\n",
    "The goodness of fitting is R2: 0.941971851905\n",
    "\n",
    "\n",
    "\n",
    "\n"
   ]
  },
  {
   "cell_type": "code",
   "execution_count": null,
   "metadata": {
    "collapsed": true
   },
   "outputs": [],
   "source": []
  },
  {
   "cell_type": "code",
   "execution_count": null,
   "metadata": {
    "collapsed": true
   },
   "outputs": [],
   "source": []
  }
 ],
 "metadata": {
  "kernelspec": {
   "display_name": "Python 2",
   "language": "python",
   "name": "python2"
  },
  "language_info": {
   "codemirror_mode": {
    "name": "ipython",
    "version": 2
   },
   "file_extension": ".py",
   "mimetype": "text/x-python",
   "name": "python",
   "nbconvert_exporter": "python",
   "pygments_lexer": "ipython2",
   "version": "2.7.11"
  }
 },
 "nbformat": 4,
 "nbformat_minor": 0
}
