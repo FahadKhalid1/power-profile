{
 "cells": [
  {
   "cell_type": "code",
   "execution_count": 4,
   "metadata": {
    "collapsed": false
   },
   "outputs": [
    {
     "ename": "IOError",
     "evalue": "[Errno 2] No such file or directory: '../user_1/profile/2015/profile.npy'",
     "output_type": "error",
     "traceback": [
      "\u001b[1;31m---------------------------------------------------------------------------\u001b[0m",
      "\u001b[1;31mIOError\u001b[0m                                   Traceback (most recent call last)",
      "\u001b[1;32m<ipython-input-4-06c41c2a9501>\u001b[0m in \u001b[0;36m<module>\u001b[1;34m()\u001b[0m\n\u001b[0;32m     24\u001b[0m \u001b[1;33m\u001b[0m\u001b[0m\n\u001b[0;32m     25\u001b[0m \u001b[1;33m\u001b[0m\u001b[0m\n\u001b[1;32m---> 26\u001b[1;33m \u001b[0mrpp\u001b[0m \u001b[1;33m=\u001b[0m \u001b[0mnp\u001b[0m\u001b[1;33m.\u001b[0m\u001b[0mload\u001b[0m\u001b[1;33m(\u001b[0m\u001b[1;34m'../user_1/profile/2015/profile.npy'\u001b[0m\u001b[1;33m)\u001b[0m\u001b[1;33m\u001b[0m\u001b[0m\n\u001b[0m\u001b[0;32m     27\u001b[0m \u001b[0mrpp_zoom\u001b[0m \u001b[1;33m=\u001b[0m \u001b[0mrpp\u001b[0m\u001b[1;33m[\u001b[0m\u001b[1;36m180\u001b[0m\u001b[1;33m:\u001b[0m\u001b[1;36m420\u001b[0m\u001b[1;33m]\u001b[0m\u001b[1;33m\u001b[0m\u001b[0m\n\u001b[0;32m     28\u001b[0m \u001b[1;33m\u001b[0m\u001b[0m\n",
      "\u001b[1;32m/home/cedric/anaconda2/lib/python2.7/site-packages/numpy/lib/npyio.pyc\u001b[0m in \u001b[0;36mload\u001b[1;34m(file, mmap_mode, allow_pickle, fix_imports, encoding)\u001b[0m\n\u001b[0;32m    360\u001b[0m     \u001b[0mown_fid\u001b[0m \u001b[1;33m=\u001b[0m \u001b[0mFalse\u001b[0m\u001b[1;33m\u001b[0m\u001b[0m\n\u001b[0;32m    361\u001b[0m     \u001b[1;32mif\u001b[0m \u001b[0misinstance\u001b[0m\u001b[1;33m(\u001b[0m\u001b[0mfile\u001b[0m\u001b[1;33m,\u001b[0m \u001b[0mbasestring\u001b[0m\u001b[1;33m)\u001b[0m\u001b[1;33m:\u001b[0m\u001b[1;33m\u001b[0m\u001b[0m\n\u001b[1;32m--> 362\u001b[1;33m         \u001b[0mfid\u001b[0m \u001b[1;33m=\u001b[0m \u001b[0mopen\u001b[0m\u001b[1;33m(\u001b[0m\u001b[0mfile\u001b[0m\u001b[1;33m,\u001b[0m \u001b[1;34m\"rb\"\u001b[0m\u001b[1;33m)\u001b[0m\u001b[1;33m\u001b[0m\u001b[0m\n\u001b[0m\u001b[0;32m    363\u001b[0m         \u001b[0mown_fid\u001b[0m \u001b[1;33m=\u001b[0m \u001b[0mTrue\u001b[0m\u001b[1;33m\u001b[0m\u001b[0m\n\u001b[0;32m    364\u001b[0m     \u001b[1;32melse\u001b[0m\u001b[1;33m:\u001b[0m\u001b[1;33m\u001b[0m\u001b[0m\n",
      "\u001b[1;31mIOError\u001b[0m: [Errno 2] No such file or directory: '../user_1/profile/2015/profile.npy'"
     ]
    }
   ],
   "source": [
    "%matplotlib inline\n",
    "\n",
    "import numpy as np\n",
    "from scipy import misc\n",
    "import matplotlib.pyplot as plt\n",
    "\n",
    "\n",
    "def first_derivative(f) :\n",
    "    taille = np.size(f)\n",
    "\n",
    "    d_rpp = []\n",
    "    for i in range(taille-1):\n",
    "        d_rpp.append(f[i+1]-f[i])\n",
    "\n",
    "    return d_rpp\n",
    "\n",
    "\n",
    "\n",
    "def second_derivative(f) :\n",
    "    d_rpp = first_derivative(f)\n",
    "    dd_rpp = first_derivative(d_rpp)\n",
    "\n",
    "    return dd_rpp \n",
    "\n",
    "\n",
    "rpp = np.load('../data/user_1/profile/2015/profile.npy')\n",
    "rpp_zoom = rpp[180:420]\n",
    "\n",
    "#echantillonnage comme F Grappe et SRM\n",
    "val_ech_srm =[1, 3, 3.5, 4, 4.5, 5, 5.5, 6, 6.5, 7, 10, 20, 29.9]\n",
    "#val_ech_srm =[3, 3.5, 4, 4.5, 5, 5.5, 6, 6.5, 7]\n",
    "tab_srm = []\n",
    "size_tab_srm = np.size(val_ech_srm)\n",
    "\n",
    "#copie\n",
    "\n",
    "for i in range(size_tab_srm):\n",
    "    ind = int(val_ech_srm[i]*60)\n",
    "    tab_srm.append(rpp[ind])\n",
    "dd_tb_srm = second_derivative(tab_srm)\n",
    "\n",
    "dd_rpp_zoom = second_derivative(rpp_zoom)\n",
    "plt.figure(0)\n",
    "plt.plot(dd_rpp_zoom)\n",
    "\n",
    "plt.figure(1)\n",
    "plt.plot(rpp)\n",
    "\n",
    "plt.figure(3)\n",
    "plt.plot(rpp_zoom)\n",
    "\n",
    "plt.figure(2)\n",
    "plt.plot(tab_srm)\n",
    "plt.plot(dd_tb_srm)\n",
    "\n",
    "plt.show()\n",
    "\n",
    "\n",
    "\n",
    "\n",
    "\n",
    "\n"
   ]
  }
 ],
 "metadata": {
  "kernelspec": {
   "display_name": "Python 2",
   "language": "python",
   "name": "python2"
  },
  "language_info": {
   "codemirror_mode": {
    "name": "ipython",
    "version": 2
   },
   "file_extension": ".py",
   "mimetype": "text/x-python",
   "name": "python",
   "nbconvert_exporter": "python",
   "pygments_lexer": "ipython2",
   "version": "2.7.11"
  }
 },
 "nbformat": 4,
 "nbformat_minor": 0
}
